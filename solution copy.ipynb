{
  "cells": [
    {
      "cell_type": "markdown",
      "metadata": {
        "id": "TV3Socqg8BVl"
      },
      "source": [
        "## Task \n",
        "- Complete **rotateString** function following the description below\n",
        "\n",
        "### Rotate String\n",
        "Given two strings **s** and **goal**, return **true** *if and only if* **s** can become **goal** after some number of shifts on **s**.\n",
        "\n",
        "A shift on **s** consists of moving the leftmost character of **s** to the rightmost position.\n",
        "\n",
        "- For example, if **s = \"abcde\"**, then it will be **\"bcdea\"** after one shift."
      ]
    },
    {
      "cell_type": "code",
      "execution_count": 1,
      "metadata": {
        "id": "5FcxitVf5kdQ"
      },
      "outputs": [],
      "source": [
        "def rotateString(s, goal):\n",
        "  # Write a code here\n",
        "  \n",
        "  cnt = 0\n",
        "  ls = []\n",
        "  for i in range(len(s)):\n",
        "    if s[0] == goal[i]:\n",
        "      start_idx = i\n",
        "      break\n",
        "    \n",
        "  for i in range(len(s)-start_idx):\n",
        "    if s[i] == goal[i+start_idx]:\n",
        "      # print(s[i])\n",
        "      pass\n",
        "    else:\n",
        "      return False\n",
        "    \n",
        "  \n",
        "  \n",
        "  for i in range(start_idx):\n",
        "    if s[i+start_idx-1] == goal[i]:\n",
        "      # print(s[i+start_idx-1])\n",
        "      pass\n",
        "    else:\n",
        "      return False\n",
        "  return True\n"
      ]
    },
    {
      "cell_type": "code",
      "execution_count": 2,
      "metadata": {
        "id": "iGtv8pRU59yu"
      },
      "outputs": [
        {
          "data": {
            "text/plain": [
              "True"
            ]
          },
          "execution_count": 2,
          "metadata": {},
          "output_type": "execute_result"
        }
      ],
      "source": [
        "'''\n",
        "Testcase 1. \n",
        "Input: s = \"abcde\", goal = \"cdeab\"\n",
        "Output: True\n",
        "'''\n",
        "rotateString(\"abcde\", \"cdeab\")"
      ]
    },
    {
      "cell_type": "code",
      "execution_count": 1,
      "metadata": {},
      "outputs": [
        {
          "ename": "NameError",
          "evalue": "name 'rotateString' is not defined",
          "output_type": "error",
          "traceback": [
            "\u001b[0;31m---------------------------------------------------------------------------\u001b[0m",
            "\u001b[0;31mNameError\u001b[0m                                 Traceback (most recent call last)",
            "Cell \u001b[0;32mIn[1], line 1\u001b[0m\n\u001b[0;32m----> 1\u001b[0m rotateString(\u001b[39m\"\u001b[39m\u001b[39m\"\u001b[39m, \u001b[39m\"\u001b[39m\u001b[39m\"\u001b[39m)\n",
            "\u001b[0;31mNameError\u001b[0m: name 'rotateString' is not defined"
          ]
        }
      ],
      "source": [
        "rotateString(\"df\", \"asdf\")"
      ]
    },
    {
      "cell_type": "code",
      "execution_count": 3,
      "metadata": {
        "id": "c_igv9cg6Jb0"
      },
      "outputs": [
        {
          "data": {
            "text/plain": [
              "False"
            ]
          },
          "execution_count": 3,
          "metadata": {},
          "output_type": "execute_result"
        }
      ],
      "source": [
        "'''\n",
        "Testcase 2. \n",
        "Input: s = \"abcde\", goal = \"abced\"\n",
        "Output: False\n",
        "'''\n",
        "rotateString(\"abcde\", \"abced\")"
      ]
    },
    {
      "cell_type": "code",
      "execution_count": 4,
      "metadata": {
        "id": "gzATcpEZ6P67"
      },
      "outputs": [
        {
          "data": {
            "text/plain": [
              "True"
            ]
          },
          "execution_count": 4,
          "metadata": {},
          "output_type": "execute_result"
        }
      ],
      "source": [
        "'''\n",
        "Testcase 3. \n",
        "Input: s = \"abcde\", goal = \"abcde\"\n",
        "Output: True\n",
        "'''\n",
        "rotateString(\"abcde\", \"abcde\")"
      ]
    }
  ],
  "metadata": {
    "colab": {
      "provenance": []
    },
    "kernelspec": {
      "display_name": "Python 3",
      "name": "python3"
    },
    "language_info": {
      "codemirror_mode": {
        "name": "ipython",
        "version": 3
      },
      "file_extension": ".py",
      "mimetype": "text/x-python",
      "name": "python",
      "nbconvert_exporter": "python",
      "pygments_lexer": "ipython3",
      "version": "3.9.6"
    }
  },
  "nbformat": 4,
  "nbformat_minor": 0
}
